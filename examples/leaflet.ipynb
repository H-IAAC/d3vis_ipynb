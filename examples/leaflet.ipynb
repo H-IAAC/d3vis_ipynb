{
 "cells": [
  {
   "cell_type": "markdown",
   "id": "151bd9e5-ee22-449e-9247-71e9a695aefd",
   "metadata": {},
   "source": [
    "[![Open In Colab](https://colab.research.google.com/assets/colab-badge.svg)](https://colab.research.google.com/github/H-IAAC/d3vis_ipynb/blob/main/examples/leaflet.ipynb)"
   ]
  },
  {
   "cell_type": "code",
   "execution_count": null,
   "id": "d25132c1-a82b-42d0-aeb1-a8b9c3af7d1d",
   "metadata": {},
   "outputs": [],
   "source": [
    "# !pip install d3vis_ipynb --quiet"
   ]
  },
  {
   "cell_type": "code",
   "execution_count": null,
   "id": "2cb22232-3bee-4736-b010-40ac9cc4b91a",
   "metadata": {},
   "outputs": [],
   "source": [
    "from d3vis_ipynb import CustomWidget, MatrixLayout, ScatterPlot\n",
    "import traitlets"
   ]
  },
  {
   "cell_type": "markdown",
   "id": "afedd56d-90dd-4de7-ab52-f8c44c120ae9",
   "metadata": {},
   "source": [
    "# Import Datasets"
   ]
  },
  {
   "cell_type": "code",
   "execution_count": null,
   "id": "8beadcfe-11cb-4894-b1d1-23167f31f621",
   "metadata": {},
   "outputs": [],
   "source": [
    "import statsmodels.api as sm\n",
    "import ssl\n",
    "ssl._create_default_https_context = ssl._create_unverified_context\n",
    "maps = sm.datasets.get_rdataset('aulatlong', 'DAAG').data\n",
    "maps"
   ]
  },
  {
   "cell_type": "code",
   "execution_count": null,
   "id": "5a8290f5-b415-419e-829d-a2f299fca442",
   "metadata": {},
   "outputs": [],
   "source": [
    "markers = maps.reset_index().to_dict(orient=\"records\")\n",
    "for marker in markers:\n",
    "    marker[\"popup\"] = marker.pop(\"rownames\")\n",
    "\n",
    "markers"
   ]
  },
  {
   "cell_type": "markdown",
   "id": "d13fab52-02d5-4f6a-b36f-2fa03e23cc55",
   "metadata": {},
   "source": [
    "# Leaflet Plot"
   ]
  },
  {
   "cell_type": "code",
   "execution_count": null,
   "id": "faaa68b8-0ad3-456a-a48d-1119fe04a570",
   "metadata": {},
   "outputs": [],
   "source": [
    "jsUrl = \"https://raw.githubusercontent.com/H-IAAC/d3vis_ipynb/main/samples/leafletplot.js\"\n",
    "jsPath = \"../samples/leafletplot.js\"\n",
    "\n",
    "cssPath = \"../samples/leafletplot.css\"\n",
    "\n",
    "class CustomLeafletplot(CustomWidget):\n",
    "    _esm = CustomWidget.createWidgetFromLocalFile(paramList=[\"longitude\", \"latitude\", \"zoom\", \"markers\"], filePath=jsPath)\n",
    "\n",
    "    # _esm = CustomWidget.createWidgetFromUrl(paramList=[\"longitude\", \"latitude\", \"zoom\", \"markers\"], jsUrl=jsUrl)\n",
    "\n",
    "    _css = \"https://unpkg.com/leaflet@1.9.4/dist/leaflet.css\"\n",
    "    \n",
    "    longitude = traitlets.Float().tag(sync=True)\n",
    "    latitude = traitlets.Float().tag(sync=True)\n",
    "    zoom = traitlets.Float().tag(sync=True)\n",
    "    markers = traitlets.List([]).tag(sync=True)\n",
    "    clickedMarker = traitlets.Dict([]).tag(sync=True)\n",
    "\n",
    "leaflet = CustomLeafletplot(longitude = -26, latitude = 134, zoom = 4, markers = markers)"
   ]
  },
  {
   "cell_type": "code",
   "execution_count": null,
   "id": "1e702e06-e5f1-448f-a254-dfc85c1e1948",
   "metadata": {},
   "outputs": [],
   "source": [
    "leaflet"
   ]
  },
  {
   "cell_type": "code",
   "execution_count": null,
   "id": "61f306db-dfbc-4203-ae3d-834dcb2680d2",
   "metadata": {},
   "outputs": [],
   "source": [
    "matrix = [[1, 2],\n",
    "          [1, 2],\n",
    "          [1, 2]]\n",
    "matrixLayout = MatrixLayout(matrix, style=\"neumorphism\")\n",
    "leaflet2 = CustomLeafletplot(longitude = -26, latitude = 134, zoom = 4)\n",
    "scatterplot = ScatterPlot(data = maps.reset_index(), x = 'latitude', y = 'longitude', hue = \"rownames\")\n",
    "\n",
    "def on_selected(values):\n",
    "    markers = scatterplot.selectedValues.to_dict(orient=\"records\")\n",
    "    for marker in markers:\n",
    "        marker[\"popup\"] = marker.pop(\"rownames\")\n",
    "    leaflet2.markers = markers\n",
    "    \n",
    "scatterplot.on_select_values(on_selected)\n",
    "\n",
    "matrixLayout.add(leaflet2, 1)\n",
    "matrixLayout.add(scatterplot, 2)\n",
    "matrixLayout"
   ]
  },
  {
   "cell_type": "markdown",
   "id": "1131a898-8ac7-4073-9bff-247edf89c3e7",
   "metadata": {},
   "source": [
    "Select dots on the scatterplot to generate markers on the map. Then click on a marker and run the cell bellow to see the informations on the clicked marker."
   ]
  },
  {
   "cell_type": "code",
   "execution_count": null,
   "id": "6623c34f-45bd-4db2-82fa-9a7316ba0c53",
   "metadata": {},
   "outputs": [],
   "source": [
    "leaflet2.clickedMarker"
   ]
  }
 ],
 "metadata": {
  "kernelspec": {
   "display_name": "Python 3 (ipykernel)",
   "language": "python",
   "name": "python3"
  },
  "language_info": {
   "codemirror_mode": {
    "name": "ipython",
    "version": 3
   },
   "file_extension": ".py",
   "mimetype": "text/x-python",
   "name": "python",
   "nbconvert_exporter": "python",
   "pygments_lexer": "ipython3",
   "version": "3.12.9"
  }
 },
 "nbformat": 4,
 "nbformat_minor": 5
}
